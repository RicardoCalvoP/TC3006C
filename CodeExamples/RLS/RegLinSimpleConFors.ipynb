{
 "cells": [
  {
   "cell_type": "code",
   "execution_count": 1,
   "id": "871234ad",
   "metadata": {},
   "outputs": [],
   "source": [
    "import pandas as pd\n",
    "import numpy as np\n",
    "import matplotlib.pyplot as plt"
   ]
  },
  {
   "cell_type": "code",
   "execution_count": 3,
   "id": "94b5c319",
   "metadata": {},
   "outputs": [
    {
     "data": {
      "text/html": [
       "<div>\n",
       "<style scoped>\n",
       "    .dataframe tbody tr th:only-of-type {\n",
       "        vertical-align: middle;\n",
       "    }\n",
       "\n",
       "    .dataframe tbody tr th {\n",
       "        vertical-align: top;\n",
       "    }\n",
       "\n",
       "    .dataframe thead th {\n",
       "        text-align: right;\n",
       "    }\n",
       "</style>\n",
       "<table border=\"1\" class=\"dataframe\">\n",
       "  <thead>\n",
       "    <tr style=\"text-align: right;\">\n",
       "      <th></th>\n",
       "      <th>Población</th>\n",
       "      <th>Ganacias</th>\n",
       "    </tr>\n",
       "  </thead>\n",
       "  <tbody>\n",
       "    <tr>\n",
       "      <th>0</th>\n",
       "      <td>6.1101</td>\n",
       "      <td>17.59200</td>\n",
       "    </tr>\n",
       "    <tr>\n",
       "      <th>1</th>\n",
       "      <td>5.5277</td>\n",
       "      <td>9.13020</td>\n",
       "    </tr>\n",
       "    <tr>\n",
       "      <th>2</th>\n",
       "      <td>8.5186</td>\n",
       "      <td>13.66200</td>\n",
       "    </tr>\n",
       "    <tr>\n",
       "      <th>3</th>\n",
       "      <td>7.0032</td>\n",
       "      <td>11.85400</td>\n",
       "    </tr>\n",
       "    <tr>\n",
       "      <th>4</th>\n",
       "      <td>5.8598</td>\n",
       "      <td>6.82330</td>\n",
       "    </tr>\n",
       "    <tr>\n",
       "      <th>...</th>\n",
       "      <td>...</td>\n",
       "      <td>...</td>\n",
       "    </tr>\n",
       "    <tr>\n",
       "      <th>92</th>\n",
       "      <td>5.8707</td>\n",
       "      <td>7.20290</td>\n",
       "    </tr>\n",
       "    <tr>\n",
       "      <th>93</th>\n",
       "      <td>5.3054</td>\n",
       "      <td>1.98690</td>\n",
       "    </tr>\n",
       "    <tr>\n",
       "      <th>94</th>\n",
       "      <td>8.2934</td>\n",
       "      <td>0.14454</td>\n",
       "    </tr>\n",
       "    <tr>\n",
       "      <th>95</th>\n",
       "      <td>13.3940</td>\n",
       "      <td>9.05510</td>\n",
       "    </tr>\n",
       "    <tr>\n",
       "      <th>96</th>\n",
       "      <td>5.4369</td>\n",
       "      <td>0.61705</td>\n",
       "    </tr>\n",
       "  </tbody>\n",
       "</table>\n",
       "<p>97 rows × 2 columns</p>\n",
       "</div>"
      ],
      "text/plain": [
       "    Población  Ganacias\n",
       "0      6.1101  17.59200\n",
       "1      5.5277   9.13020\n",
       "2      8.5186  13.66200\n",
       "3      7.0032  11.85400\n",
       "4      5.8598   6.82330\n",
       "..        ...       ...\n",
       "92     5.8707   7.20290\n",
       "93     5.3054   1.98690\n",
       "94     8.2934   0.14454\n",
       "95    13.3940   9.05510\n",
       "96     5.4369   0.61705\n",
       "\n",
       "[97 rows x 2 columns]"
      ]
     },
     "execution_count": 3,
     "metadata": {},
     "output_type": "execute_result"
    }
   ],
   "source": [
    "datos = pd.read_csv(\"ex1data1.csv\")\n",
    "datos"
   ]
  },
  {
   "cell_type": "code",
   "execution_count": 4,
   "id": "4bf7df8d",
   "metadata": {},
   "outputs": [
    {
     "name": "stdout",
     "output_type": "stream",
     "text": [
      "(97, 1) (97,)\n"
     ]
    }
   ],
   "source": [
    "X = pd.DataFrame(datos, columns=datos.columns[:-1]).values\n",
    "y = datos[datos.columns[-1]].values\n",
    "print(X.shape, y.shape)"
   ]
  },
  {
   "cell_type": "code",
   "execution_count": 9,
   "id": "8bce6a9b",
   "metadata": {},
   "outputs": [],
   "source": [
    "Theta = [0.0] * (X.shape[1]+1)\n",
    "epochs = 1500\n",
    "alfa = 0.01"
   ]
  },
  {
   "cell_type": "code",
   "execution_count": 10,
   "id": "4197ba43",
   "metadata": {},
   "outputs": [
    {
     "name": "stdout",
     "output_type": "stream",
     "text": [
      "Theta Final: [np.float64(-3.63029143940436), np.float64(1.166362350335582)]\n"
     ]
    }
   ],
   "source": [
    "J = []\n",
    "m = len(y)\n",
    "for epoch in range(epochs):\n",
    "    acum0 = 0\n",
    "    for i in range(m):\n",
    "        acum0 = acum0 + (Theta[0] + Theta[1] * X[i, 0] - y[i])\n",
    "    Theta0 = Theta[0] - alfa * (1/m) * acum0\n",
    "    acum1 = 0\n",
    "    for i in range(m):\n",
    "        acum1 = acum1 + (Theta[0] + Theta[1] * X[i, 0] - y[i]) * X[i, 0]\n",
    "    Theta1 = Theta[1] - alfa * (1/m) * acum1\n",
    "    Theta[0] = Theta0\n",
    "    Theta[1] = Theta1\n",
    "    # Costo\n",
    "    acum3 = 0\n",
    "    for i in range(m):\n",
    "        acum3 = acum3 + (Theta[0] + Theta[1] * X[i, 0] - y[i]) ** 2\n",
    "    J.append(acum3 / (2*m))\n",
    "print(\"Theta Final:\", Theta)"
   ]
  },
  {
   "cell_type": "code",
   "execution_count": 11,
   "id": "ba713813",
   "metadata": {},
   "outputs": [
    {
     "data": {
      "image/png": "[encoded data removed]",
      "text/plain": [
       "<Figure size 640x480 with 1 Axes>"
      ]
     },
     "metadata": {},
     "output_type": "display_data"
    }
   ],
   "source": [
    "plt.plot(J)\n",
    "plt.show()"
   ]
  },
  {
   "cell_type": "code",
   "execution_count": 12,
   "id": "98bef923",
   "metadata": {},
   "outputs": [
    {
     "data": {
      "text/plain": [
       "array([0.45197679, 4.53424501])"
      ]
     },
     "execution_count": 12,
     "metadata": {},
     "output_type": "execute_result"
    }
   ],
   "source": [
    "test = np.array([[1, 3.5],[1, 7]])\n",
    "res = test.dot(Theta)\n",
    "res"
   ]
  }
 ],
 "metadata": {
  "kernelspec": {
   "display_name": "Python 3",
   "language": "python",
   "name": "python3"
  },
  "language_info": {
   "codemirror_mode": {
    "name": "ipython",
    "version": 3
   },
   "file_extension": ".py",
   "mimetype": "text/x-python",
   "name": "python",
   "nbconvert_exporter": "python",
   "pygments_lexer": "ipython3",
   "version": "3.13.3"
  }
 },
 "nbformat": 4,
 "nbformat_minor": 5
}
